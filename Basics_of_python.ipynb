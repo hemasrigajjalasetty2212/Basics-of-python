{
  "nbformat": 4,
  "nbformat_minor": 0,
  "metadata": {
    "colab": {
      "provenance": [],
      "history_visible": true
    },
    "kernelspec": {
      "name": "python3",
      "display_name": "Python 3"
    },
    "language_info": {
      "name": "python"
    }
  },
  "cells": [
    {
      "cell_type": "code",
      "source": [
        "# check wheather the given number is prime or not\n",
        "\n",
        "\n",
        "def is_prime(n):\n",
        "  if n <= 1:\n",
        "    return False\n",
        "  for i in range(2, int(n ** 0.5) + 1):\n",
        "    if n % i == 0:\n",
        "      return False\n",
        "  return True\n",
        "\n",
        "num = int(input(\"Enter a number: \")) # giving input\n",
        "if is_prime(num):\n",
        "  print(num, \"is a prime number\")\n",
        "else:\n",
        "  print(num, \"is not a prime number\")\n"
      ],
      "metadata": {
        "colab": {
          "base_uri": "https://localhost:8080/"
        },
        "id": "o-SLASBKF723",
        "outputId": "f6495cb8-7000-4d26-c9a5-18271bdb5802"
      },
      "execution_count": 45,
      "outputs": [
        {
          "output_type": "stream",
          "name": "stdout",
          "text": [
            "Enter a number: 2\n",
            "2 is a prime number\n"
          ]
        }
      ]
    },
    {
      "cell_type": "code",
      "source": [
        "# counting number of words\n",
        "input_text = \"This is a sample text. This text will be used to demonstrate the word counter.\"\n",
        "word_counts = {}\n",
        "for word in input_text.lower().split():\n",
        "  if word in word_counts:\n",
        "    word_counts[word] += 1\n",
        "  else:\n",
        "    word_counts[word] = 1\n",
        "\n",
        "for word, count in word_counts.items():\n",
        "  print(f\"'{word}': {count}\")\n"
      ],
      "metadata": {
        "colab": {
          "base_uri": "https://localhost:8080/"
        },
        "id": "VHm52HZFlrVq",
        "outputId": "4093afb4-077b-4264-e1ae-88315c5542aa"
      },
      "execution_count": 46,
      "outputs": [
        {
          "output_type": "stream",
          "name": "stdout",
          "text": [
            "'this': 2\n",
            "'is': 1\n",
            "'a': 1\n",
            "'sample': 1\n",
            "'text.': 1\n",
            "'text': 1\n",
            "'will': 1\n",
            "'be': 1\n",
            "'used': 1\n",
            "'to': 1\n",
            "'demonstrate': 1\n",
            "'the': 1\n",
            "'word': 1\n",
            "'counter.': 1\n"
          ]
        }
      ]
    },
    {
      "cell_type": "code",
      "source": [
        "# Create a Python script that prints the squares of all even or odd numbers within the range of 100 to 200. Choose either even or odd numbers and document your choice in the code.\n",
        "\n",
        "# Choosing to print squares of even numbers between 100 and 200\n",
        "\n",
        "for i in range(100, 201):\n",
        "  if i % 2 == 0:\n",
        "    print(i**2, end=\" \")\n"
      ],
      "metadata": {
        "colab": {
          "base_uri": "https://localhost:8080/"
        },
        "id": "aw-RvppgnhXZ",
        "outputId": "3afd8ab9-5939-462c-b873-e89da6702ebc"
      },
      "execution_count": 47,
      "outputs": [
        {
          "output_type": "stream",
          "name": "stdout",
          "text": [
            "10000 10404 10816 11236 11664 12100 12544 12996 13456 13924 14400 14884 15376 15876 16384 16900 17424 17956 18496 19044 19600 20164 20736 21316 21904 22500 23104 23716 24336 24964 25600 26244 26896 27556 28224 28900 29584 30276 30976 31684 32400 33124 33856 34596 35344 36100 36864 37636 38416 39204 40000 "
          ]
        }
      ]
    },
    {
      "cell_type": "code",
      "source": [
        "# counting number of words\n",
        "input_text = \"This is a sample text. This text will be used to demonstrate the word counter.\"\n",
        "word_counts = {}\n",
        "for word in input_text.lower().split():\n",
        "  if word in word_counts:\n",
        "    word_counts[word] += 1\n",
        "  else:\n",
        "    word_counts[word] = 1\n",
        "\n",
        "for word, count in word_counts.items():\n",
        "  print(f\"'{word}': {count}\")\n"
      ],
      "metadata": {
        "colab": {
          "base_uri": "https://localhost:8080/"
        },
        "id": "YIzRl1O2CoAs",
        "outputId": "d193fd2e-eac8-47d3-f468-4ccd5bba5430"
      },
      "execution_count": 48,
      "outputs": [
        {
          "output_type": "stream",
          "name": "stdout",
          "text": [
            "'this': 2\n",
            "'is': 1\n",
            "'a': 1\n",
            "'sample': 1\n",
            "'text.': 1\n",
            "'text': 1\n",
            "'will': 1\n",
            "'be': 1\n",
            "'used': 1\n",
            "'to': 1\n",
            "'demonstrate': 1\n",
            "'the': 1\n",
            "'word': 1\n",
            "'counter.': 1\n"
          ]
        }
      ]
    },
    {
      "cell_type": "code",
      "source": [
        "# palandrome\n",
        "def is_palindrome(text):\n",
        "  processed_text = ''.join(c for c in text.lower() if c.isalnum())\n",
        "  return processed_text == processed_text[::-1]\n",
        "\n",
        "print(is_palindrome(\"racecar\"))\n"
      ],
      "metadata": {
        "colab": {
          "base_uri": "https://localhost:8080/"
        },
        "id": "fT37hOsy9dR5",
        "outputId": "5dc75cb3-c8e2-4e69-9894-dc8044a9bce8"
      },
      "execution_count": 49,
      "outputs": [
        {
          "output_type": "stream",
          "name": "stdout",
          "text": [
            "True\n"
          ]
        }
      ]
    },
    {
      "cell_type": "code",
      "source": [],
      "metadata": {
        "id": "ez4KvAqQ_S7q"
      },
      "execution_count": 49,
      "outputs": []
    }
  ]
}